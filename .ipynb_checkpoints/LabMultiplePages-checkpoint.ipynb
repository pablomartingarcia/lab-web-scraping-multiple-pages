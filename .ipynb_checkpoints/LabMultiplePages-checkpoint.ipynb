{
 "cells": [
  {
   "cell_type": "code",
   "execution_count": 6,
   "id": "207e1704",
   "metadata": {},
   "outputs": [
    {
     "name": "stdout",
     "output_type": "stream",
     "text": [
      "Empty DataFrame\n",
      "Columns: []\n",
      "Index: []\n"
     ]
    }
   ],
   "source": [
    "import requests\n",
    "from bs4 import BeautifulSoup\n",
    "import pandas as pd\n",
    "\n",
    "url = \"https://www.billboard.com/charts/hot-100\"\n",
    "response = requests.get(url)\n",
    "html_content = response.content\n",
    "\n",
    "soup = BeautifulSoup(html_content, \"html.parser\")\n",
    "\n",
    "songs = soup.find_all(\"span\", class_=\"chart-element__information__song text--truncate color--primary\")\n",
    "artists = soup.find_all(\"span\", class_=\"chart-element__information__artist text--truncate color--secondary\")\n",
    "\n",
    "data = []\n",
    "for song, artist in zip(songs, artists):\n",
    "    song_name = song.get_text()\n",
    "    artist_name = artist.get_text()\n",
    "    data.append({\"Song\": song_name, \"Artist\": artist_name})\n",
    "\n",
    "df = pd.DataFrame(data)\n",
    "\n",
    "print(df)"
   ]
  },
  {
   "cell_type": "code",
   "execution_count": 7,
   "id": "c431473f",
   "metadata": {},
   "outputs": [
    {
     "name": "stdout",
     "output_type": "stream",
     "text": [
      "                                         Artist  \\\n",
      "0            List_of_songs_recorded_by_Bon_Jovi   \n",
      "1            List_of_songs_recorded_by_Bon_Jovi   \n",
      "2            List_of_songs_recorded_by_Bon_Jovi   \n",
      "3            List_of_songs_recorded_by_Bon_Jovi   \n",
      "4            List_of_songs_recorded_by_Bon_Jovi   \n",
      "...                                         ...   \n",
      "1243  List_of_songs_recorded_by_Michael_Jackson   \n",
      "1244  List_of_songs_recorded_by_Michael_Jackson   \n",
      "1245  List_of_songs_recorded_by_Michael_Jackson   \n",
      "1246  List_of_songs_recorded_by_Michael_Jackson   \n",
      "1247  List_of_songs_recorded_by_Michael_Jackson   \n",
      "\n",
      "                                  Song  \n",
      "0                    \"99 in the Shade\"  \n",
      "1             \"Ain't No Cure For Love\"  \n",
      "2                              \"Alive\"  \n",
      "3               \"All About Lovin' You\"  \n",
      "4                  \"All Hail the King\"  \n",
      "...                                ...  \n",
      "1243      \"You Can Cry on My Shoulder\"  \n",
      "1244                   \"You Can't Win\"  \n",
      "1245               \"You Rock My World\"  \n",
      "1246             \"You've Got a Friend\"  \n",
      "1247  \"You've Really Got a Hold on Me\"  \n",
      "\n",
      "[1248 rows x 2 columns]\n"
     ]
    }
   ],
   "source": [
    "from selenium import webdriver\n",
    "from bs4 import BeautifulSoup\n",
    "import pandas as pd\n",
    "\n",
    "urls = [\n",
    "    \"https://en.wikipedia.org/wiki/List_of_songs_recorded_by_the_Beatles\",\n",
    "    \"https://en.wikipedia.org/wiki/List_of_songs_recorded_by_Bon_Jovi\",\n",
    "    \"https://en.wikipedia.org/wiki/List_of_songs_recorded_by_Elvis_Presley\",\n",
    "    \"https://en.wikipedia.org/wiki/List_of_songs_recorded_by_Green_Day\",\n",
    "    \"https://en.wikipedia.org/wiki/List_of_songs_recorded_by_Michael_Jackson\"\n",
    "]\n",
    "\n",
    "driver = webdriver.Chrome()\n",
    "\n",
    "song_data = []\n",
    "\n",
    "for url in urls:\n",
    "    driver.get(url)\n",
    "    html_content = driver.page_source\n",
    "\n",
    "    soup = BeautifulSoup(html_content, \"html.parser\")\n",
    "\n",
    "    table = soup.find(\"table\", class_=\"wikitable\")\n",
    "\n",
    "    if table:\n",
    "        rows = table.find_all(\"tr\")\n",
    "\n",
    "        for row in rows[1:]:  \n",
    "            columns = row.find_all(\"td\")\n",
    "            if len(columns) >= 2:\n",
    "                song_title = columns[0].get_text().strip()\n",
    "                song_data.append({\"Artist\": url.split('/')[-1], \"Song\": song_title})\n",
    "\n",
    "df = pd.DataFrame(song_data)\n",
    "\n",
    "print(df)\n",
    "\n",
    "driver.quit()"
   ]
  },
  {
   "cell_type": "code",
   "execution_count": null,
   "id": "10161f81",
   "metadata": {},
   "outputs": [],
   "source": []
  }
 ],
 "metadata": {
  "kernelspec": {
   "display_name": "Python 3 (ipykernel)",
   "language": "python",
   "name": "python3"
  },
  "language_info": {
   "codemirror_mode": {
    "name": "ipython",
    "version": 3
   },
   "file_extension": ".py",
   "mimetype": "text/x-python",
   "name": "python",
   "nbconvert_exporter": "python",
   "pygments_lexer": "ipython3",
   "version": "3.11.5"
  }
 },
 "nbformat": 4,
 "nbformat_minor": 5
}
